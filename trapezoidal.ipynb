{
  "nbformat": 4,
  "nbformat_minor": 0,
  "metadata": {
    "colab": {
      "provenance": []
    },
    "kernelspec": {
      "name": "python3",
      "display_name": "Python 3"
    },
    "language_info": {
      "name": "python"
    }
  },
  "cells": [
    {
      "cell_type": "code",
      "execution_count": 1,
      "metadata": {
        "colab": {
          "base_uri": "https://localhost:8080/"
        },
        "id": "2kFfiW2yfZoJ",
        "outputId": "67d696b3-d93e-4c30-81dc-0a6f6feb9b7a"
      },
      "outputs": [
        {
          "output_type": "stream",
          "name": "stdout",
          "text": [
            "Enter lower limit of integration: 0\n",
            "Enter upper limit of integration: 1\n",
            "Enter number of sub intervals: 6\n",
            "Integration result by Trapezoidal method is: 0.784241\n"
          ]
        }
      ],
      "source": [
        "# Trapezoidal Method\n",
        "\n",
        "# Define function to integrate\n",
        "def f(x):\n",
        "    return 1/(1 + x**2)\n",
        "\n",
        "# Implementing trapezoidal method\n",
        "def trapezoidal(x0,xn,n):\n",
        "    # calculating step size\n",
        "    h = (xn - x0) / n\n",
        "\n",
        "    # Finding sum\n",
        "    integration = f(x0) + f(xn)\n",
        "\n",
        "    for i in range(1,n):\n",
        "        k = x0 + i*h\n",
        "        integration = integration + 2 * f(k)\n",
        "\n",
        "    # Finding final integration value\n",
        "    integration = integration * h/2\n",
        "\n",
        "    return integration\n",
        "\n",
        "# Input section\n",
        "lower_limit = float(input(\"Enter lower limit of integration: \"))\n",
        "upper_limit = float(input(\"Enter upper limit of integration: \"))\n",
        "sub_interval = int(input(\"Enter number of sub intervals: \"))\n",
        "\n",
        "# Call trapezoidal() method and get result\n",
        "result = trapezoidal(lower_limit, upper_limit, sub_interval)\n",
        "print(\"Integration result by Trapezoidal method is: %0.6f\" % (result) )\n"
      ]
    }
  ]
}